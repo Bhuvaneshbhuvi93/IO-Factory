{
 "cells": [
  {
   "cell_type": "code",
   "execution_count": 4,
   "metadata": {},
   "outputs": [
    {
     "name": "stdout",
     "output_type": "stream",
     "text": [
      "Time Unit: 5\n",
      "Earnings: $ 0\n",
      "Solution: T: 0, P: 0, C: 0\n",
      "Time Unit: 8\n",
      "Earnings: $ 4500\n",
      "Solution: T: 1, P: 0, C: 0\n",
      "Time Unit: 13\n",
      "Earnings: $ 16500\n",
      "Solution: T: 2, P: 0, C: 0\n",
      "Time Unit: 42\n",
      "Earnings: $ 234000\n",
      "Solution: T: 8, P: 0, C: 0\n"
     ]
    }
   ],
   "source": [
    "def max_profit(n):\n",
    "    arr = [0, 0, 0]\n",
    "    time_unit = [4, 5, 10]\n",
    "    earnings = 0\n",
    "\n",
    "    def find(n, earnings):\n",
    "        if n < 4:\n",
    "            return earnings\n",
    "        else:\n",
    "            prof = [0, 0, 0]\n",
    "            temp = n - 4\n",
    "            prof[0] = temp * 1000\n",
    "            if n >= 5:\n",
    "                temp = n - 5\n",
    "                prof[1] = temp * 1500\n",
    "                if n >= 10:\n",
    "                    temp = n - 10\n",
    "                    prof[2] = temp * 3000\n",
    "\n",
    "            max_index = prof.index(max(prof))\n",
    "            max_index = 1  # Prioritize building theaters\n",
    "            earnings += prof[max_index]\n",
    "            arr[max_index] += 1\n",
    "            return find(n - time_unit[max_index], earnings)\n",
    "\n",
    "    earnings = find(n, earnings)\n",
    "    if earnings == 0:\n",
    "        solution = \"T: 0, P: 0, C: 0\"\n",
    "    else:\n",
    "        solution = f\"T: {arr[1]}, P: {arr[0]}, C: {arr[2]}\"\n",
    "    return earnings, solution\n",
    "\n",
    "\n",
    "# Test case\n",
    "time_unit = 5\n",
    "earnings, solution = max_profit(time_unit)\n",
    "print(\"Time Unit:\", time_unit)\n",
    "print(\"Earnings: $\", earnings)\n",
    "print(\"Solution:\", solution)\n",
    "\n",
    "# Test case\n",
    "time_unit = 8\n",
    "earnings, solution = max_profit(time_unit)\n",
    "print(\"Time Unit:\", time_unit)\n",
    "print(\"Earnings: $\", earnings)\n",
    "print(\"Solution:\", solution)\n",
    "\n",
    "# Test case\n",
    "time_unit = 13\n",
    "earnings, solution = max_profit(time_unit)\n",
    "print(\"Time Unit:\", time_unit)\n",
    "print(\"Earnings: $\", earnings)\n",
    "print(\"Solution:\", solution)\n",
    "\n",
    "# Test case\n",
    "time_unit = 42\n",
    "earnings, solution = max_profit(time_unit)\n",
    "print(\"Time Unit:\", time_unit)\n",
    "print(\"Earnings: $\", earnings)\n",
    "print(\"Solution:\", solution)\n"
   ]
  }
 ],
 "metadata": {
  "kernelspec": {
   "display_name": "XGB",
   "language": "python",
   "name": "python3"
  },
  "language_info": {
   "codemirror_mode": {
    "name": "ipython",
    "version": 3
   },
   "file_extension": ".py",
   "mimetype": "text/x-python",
   "name": "python",
   "nbconvert_exporter": "python",
   "pygments_lexer": "ipython3",
   "version": "3.9.16"
  },
  "orig_nbformat": 4
 },
 "nbformat": 4,
 "nbformat_minor": 2
}
