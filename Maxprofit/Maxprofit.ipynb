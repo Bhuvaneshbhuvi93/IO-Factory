{
 "cells": [
  {
   "cell_type": "code",
   "execution_count": 29,
   "metadata": {},
   "outputs": [
    {
     "name": "stdout",
     "output_type": "stream",
     "text": [
      "Time Unit: 7\n",
      "Earnings: $ 1500\n",
      "Solutions:\n",
      "T: 1 P: 0 C: 0\n",
      "Time Unit: 8\n",
      "Earnings: $ 2000\n",
      "Solution:\n",
      "T: 0 P: 1 C: 0\n",
      "Time Unit: 13\n",
      "Earnings: $ 3500\n",
      "Solution:\n",
      "T: 1 P: 0 C: 0\n"
     ]
    }
   ],
   "source": [
    "def max_profit(time_unit):\n",
    "    earnings = [0] * (time_unit + 1)\n",
    "    last_building = [\"\"] * (time_unit + 1)\n",
    "\n",
    "    for i in range(1, time_unit + 1):\n",
    "        earnings[i] = earnings[i-1]\n",
    "        last_building[i] = last_building[i-1]\n",
    "\n",
    "        if i >= 5 and earnings[i-5] + 1500 > earnings[i]:\n",
    "            earnings[i] = earnings[i-5] + 1500\n",
    "            last_building[i] = \"T\"\n",
    "\n",
    "        if i >= 4 and earnings[i-4] + 1000 > earnings[i]:\n",
    "            earnings[i] = earnings[i-4] + 1000\n",
    "            last_building[i] = \"P\"\n",
    "\n",
    "        if i >= 10 and earnings[i-10] + 3000 > earnings[i]:\n",
    "            earnings[i] = earnings[i-10] + 3000\n",
    "            last_building[i] = \"C\"\n",
    "\n",
    "    return earnings[time_unit], last_building[time_unit]\n",
    "\n",
    "# Test case 1\n",
    "time_unit = 7\n",
    "earnings, developed = max_profit(time_unit)\n",
    "print(\"Time Unit:\", time_unit)\n",
    "print(\"Earnings: $\", earnings)\n",
    "print(\"Solutions:\")\n",
    "sol= \"T: {} P: {} C: {}\".format(developed.count(\"T\"), developed.count(\"P\"), developed.count(\"C\"))\n",
    "print(sol)\n",
    "\n",
    "# Test case 2\n",
    "time_unit = 8\n",
    "earnings, developed = max_profit(time_unit)\n",
    "print(\"Time Unit:\", time_unit)\n",
    "print(\"Earnings: $\", earnings)\n",
    "print(\"Solution:\")\n",
    "sol= \"T: {} P: {} C: {}\".format(developed.count(\"T\"), developed.count(\"P\"), developed.count(\"C\"))\n",
    "print(sol)\n",
    "\n",
    "# Test case 3\n",
    "time_unit = 13\n",
    "earnings, developed = max_profit(time_unit)\n",
    "print(\"Time Unit:\", time_unit)\n",
    "print(\"Earnings: $\", earnings)\n",
    "print(\"Solution:\")\n",
    "sol= \"T: {} P: {} C: {}\".format(developed.count(\"T\"), developed.count(\"P\"), developed.count(\"C\"))\n",
    "print(sol)"
   ]
  }
 ],
 "metadata": {
  "kernelspec": {
   "display_name": "XGB",
   "language": "python",
   "name": "python3"
  },
  "language_info": {
   "codemirror_mode": {
    "name": "ipython",
    "version": 3
   },
   "file_extension": ".py",
   "mimetype": "text/x-python",
   "name": "python",
   "nbconvert_exporter": "python",
   "pygments_lexer": "ipython3",
   "version": "3.9.16"
  },
  "orig_nbformat": 4
 },
 "nbformat": 4,
 "nbformat_minor": 2
}
